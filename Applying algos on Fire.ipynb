{
 "cells": [
  {
   "cell_type": "markdown",
   "metadata": {},
   "source": [
    "<h3>Importing data"
   ]
  },
  {
   "cell_type": "code",
   "execution_count": 1,
   "metadata": {},
   "outputs": [
    {
     "name": "stdout",
     "output_type": "stream",
     "text": [
      "<class 'pandas.core.frame.DataFrame'>\n",
      "RangeIndex: 450 entries, 0 to 449\n",
      "Data columns (total 13 columns):\n",
      "X        450 non-null int64\n",
      "Y        450 non-null int64\n",
      "month    450 non-null object\n",
      "day      450 non-null object\n",
      "FFMC     450 non-null float64\n",
      "DMC      450 non-null float64\n",
      "DC       450 non-null float64\n",
      "ISI      450 non-null float64\n",
      "temp     450 non-null float64\n",
      "RH       450 non-null int64\n",
      "wind     450 non-null float64\n",
      "rain     450 non-null float64\n",
      "area     450 non-null float64\n",
      "dtypes: float64(8), int64(3), object(2)\n",
      "memory usage: 45.8+ KB\n"
     ]
    }
   ],
   "source": [
    "import pandas as pd\n",
    "data_train=pd.read_csv(\"train.csv\")\n",
    "data_train.info()"
   ]
  },
  {
   "cell_type": "code",
   "execution_count": 2,
   "metadata": {},
   "outputs": [
    {
     "name": "stderr",
     "output_type": "stream",
     "text": [
      "/home/lokesh/anaconda3/lib/python3.6/site-packages/ipykernel_launcher.py:8: SettingWithCopyWarning: \n",
      "A value is trying to be set on a copy of a slice from a DataFrame\n",
      "\n",
      "See the caveats in the documentation: http://pandas.pydata.org/pandas-docs/stable/indexing.html#indexing-view-versus-copy\n",
      "  \n",
      "/home/lokesh/anaconda3/lib/python3.6/site-packages/ipykernel_launcher.py:9: SettingWithCopyWarning: \n",
      "A value is trying to be set on a copy of a slice from a DataFrame\n",
      "\n",
      "See the caveats in the documentation: http://pandas.pydata.org/pandas-docs/stable/indexing.html#indexing-view-versus-copy\n",
      "  if __name__ == '__main__':\n"
     ]
    }
   ],
   "source": [
    "data_train_update=pd.DataFrame({\"X\":[],\"Y\":[],\"month\":[],\"day\":[],\"FFMC\":[],\"DMC\":[],\"DC\":[],\"ISI\":[],\"temp\":[],\"RH\":[],\"wind\":[],\"rain\":[],\"area\":[]})\n",
    "for key in data_train:\n",
    "    if key != \"month\" and key != \"day\":\n",
    "        data_train_update[key]=data_train[key]\n",
    "mon_dict={\"jan\":1,\"feb\":2,\"mar\":3,\"apr\":4,\"may\":5,\"jun\":6,\"jul\":7,\"aug\":8,\"sep\":9,\"oct\":10,\"nov\":11,\"dec\":12}\n",
    "day_dict={\"mon\":1,\"tue\":2,\"wed\":3,\"thu\":4,\"fri\":5,\"sat\":6,\"sun\":7}\n",
    "for i in range(0,450):\n",
    "    data_train_update[\"month\"][i]=mon_dict[data_train[\"month\"][i]]\n",
    "    data_train_update[\"day\"][i]=day_dict[data_train[\"day\"][i]]"
   ]
  },
  {
   "cell_type": "code",
   "execution_count": 3,
   "metadata": {},
   "outputs": [],
   "source": [
    "data_train_update_outrm=data_train_update[data_train_update.area<=250]\n",
    "data_train_update_outrm=data_train_update_outrm[data_train_update_outrm.rain!=6.40000]"
   ]
  },
  {
   "cell_type": "code",
   "execution_count": 4,
   "metadata": {},
   "outputs": [],
   "source": [
    "import math\n",
    "data_train_update_outrm[\"area\"]=data_train_update_outrm[\"area\"].apply(lambda x:0.69 if x==0 else math.log(x)/math.log(2))"
   ]
  },
  {
   "cell_type": "code",
   "execution_count": 5,
   "metadata": {},
   "outputs": [
    {
     "data": {
      "text/html": [
       "<div>\n",
       "<style scoped>\n",
       "    .dataframe tbody tr th:only-of-type {\n",
       "        vertical-align: middle;\n",
       "    }\n",
       "\n",
       "    .dataframe tbody tr th {\n",
       "        vertical-align: top;\n",
       "    }\n",
       "\n",
       "    .dataframe thead th {\n",
       "        text-align: right;\n",
       "    }\n",
       "</style>\n",
       "<table border=\"1\" class=\"dataframe\">\n",
       "  <thead>\n",
       "    <tr style=\"text-align: right;\">\n",
       "      <th></th>\n",
       "      <th>DC</th>\n",
       "      <th>DMC</th>\n",
       "      <th>FFMC</th>\n",
       "      <th>ISI</th>\n",
       "      <th>RH</th>\n",
       "      <th>X</th>\n",
       "      <th>Y</th>\n",
       "      <th>area</th>\n",
       "      <th>day</th>\n",
       "      <th>month</th>\n",
       "      <th>rain</th>\n",
       "      <th>temp</th>\n",
       "      <th>wind</th>\n",
       "    </tr>\n",
       "  </thead>\n",
       "  <tbody>\n",
       "    <tr>\n",
       "      <th>0</th>\n",
       "      <td>94.3</td>\n",
       "      <td>26.2</td>\n",
       "      <td>86.2</td>\n",
       "      <td>5.1</td>\n",
       "      <td>51</td>\n",
       "      <td>7</td>\n",
       "      <td>5</td>\n",
       "      <td>0.69</td>\n",
       "      <td>5.0</td>\n",
       "      <td>3.0</td>\n",
       "      <td>0.0</td>\n",
       "      <td>8.2</td>\n",
       "      <td>6.7</td>\n",
       "    </tr>\n",
       "    <tr>\n",
       "      <th>1</th>\n",
       "      <td>669.1</td>\n",
       "      <td>35.4</td>\n",
       "      <td>90.6</td>\n",
       "      <td>6.7</td>\n",
       "      <td>33</td>\n",
       "      <td>7</td>\n",
       "      <td>4</td>\n",
       "      <td>0.69</td>\n",
       "      <td>2.0</td>\n",
       "      <td>10.0</td>\n",
       "      <td>0.0</td>\n",
       "      <td>18.0</td>\n",
       "      <td>0.9</td>\n",
       "    </tr>\n",
       "    <tr>\n",
       "      <th>2</th>\n",
       "      <td>77.5</td>\n",
       "      <td>33.3</td>\n",
       "      <td>91.7</td>\n",
       "      <td>9.0</td>\n",
       "      <td>97</td>\n",
       "      <td>8</td>\n",
       "      <td>6</td>\n",
       "      <td>0.69</td>\n",
       "      <td>5.0</td>\n",
       "      <td>3.0</td>\n",
       "      <td>0.2</td>\n",
       "      <td>8.3</td>\n",
       "      <td>4.0</td>\n",
       "    </tr>\n",
       "    <tr>\n",
       "      <th>3</th>\n",
       "      <td>488.0</td>\n",
       "      <td>85.3</td>\n",
       "      <td>92.3</td>\n",
       "      <td>14.7</td>\n",
       "      <td>29</td>\n",
       "      <td>8</td>\n",
       "      <td>6</td>\n",
       "      <td>0.69</td>\n",
       "      <td>7.0</td>\n",
       "      <td>8.0</td>\n",
       "      <td>0.0</td>\n",
       "      <td>22.2</td>\n",
       "      <td>5.4</td>\n",
       "    </tr>\n",
       "    <tr>\n",
       "      <th>4</th>\n",
       "      <td>495.6</td>\n",
       "      <td>88.9</td>\n",
       "      <td>92.3</td>\n",
       "      <td>8.5</td>\n",
       "      <td>27</td>\n",
       "      <td>8</td>\n",
       "      <td>6</td>\n",
       "      <td>0.69</td>\n",
       "      <td>1.0</td>\n",
       "      <td>8.0</td>\n",
       "      <td>0.0</td>\n",
       "      <td>24.1</td>\n",
       "      <td>3.1</td>\n",
       "    </tr>\n",
       "  </tbody>\n",
       "</table>\n",
       "</div>"
      ],
      "text/plain": [
       "      DC   DMC  FFMC   ISI  RH  X  Y  area  day  month  rain  temp  wind\n",
       "0   94.3  26.2  86.2   5.1  51  7  5  0.69  5.0    3.0   0.0   8.2   6.7\n",
       "1  669.1  35.4  90.6   6.7  33  7  4  0.69  2.0   10.0   0.0  18.0   0.9\n",
       "2   77.5  33.3  91.7   9.0  97  8  6  0.69  5.0    3.0   0.2   8.3   4.0\n",
       "3  488.0  85.3  92.3  14.7  29  8  6  0.69  7.0    8.0   0.0  22.2   5.4\n",
       "4  495.6  88.9  92.3   8.5  27  8  6  0.69  1.0    8.0   0.0  24.1   3.1"
      ]
     },
     "execution_count": 5,
     "metadata": {},
     "output_type": "execute_result"
    }
   ],
   "source": [
    "data_train_update_outrm.head()"
   ]
  },
  {
   "cell_type": "code",
   "execution_count": 6,
   "metadata": {},
   "outputs": [],
   "source": [
    "from sklearn.model_selection import train_test_split\n",
    "labels=pd.DataFrame({\"area\":[]})\n",
    "labels[\"area\"]=data_train_update_outrm[\"area\"]\n",
    "features=data_train_update_outrm.drop(\"area\",axis=\"columns\")\n",
    "features_train,features_test,labels_train,labels_test=train_test_split(features,labels,test_size=0.33)"
   ]
  },
  {
   "cell_type": "markdown",
   "metadata": {},
   "source": [
    "<h2>Applying SVM Regressor"
   ]
  },
  {
   "cell_type": "code",
   "execution_count": 7,
   "metadata": {},
   "outputs": [
    {
     "name": "stderr",
     "output_type": "stream",
     "text": [
      "/home/lokesh/anaconda3/lib/python3.6/site-packages/sklearn/utils/validation.py:578: DataConversionWarning: A column-vector y was passed when a 1d array was expected. Please change the shape of y to (n_samples, ), for example using ravel().\n",
      "  y = column_or_1d(y, warn=True)\n"
     ]
    }
   ],
   "source": [
    "from sklearn.metrics import r2_score\n",
    "from sklearn.svm import SVR\n",
    "svmr=SVR(kernel='rbf', C=100.0, gamma='auto')\n",
    "svmr.fit(features_train,labels_train)\n",
    "pred=svmr.predict(features_test)"
   ]
  },
  {
   "cell_type": "code",
   "execution_count": 8,
   "metadata": {},
   "outputs": [
    {
     "data": {
      "text/plain": [
       "2.6455617104059925"
      ]
     },
     "execution_count": 8,
     "metadata": {},
     "output_type": "execute_result"
    }
   ],
   "source": [
    "from sklearn.metrics import mean_squared_error\n",
    "mean_squared_error(labels_test,pred)"
   ]
  },
  {
   "cell_type": "code",
   "execution_count": 9,
   "metadata": {},
   "outputs": [
    {
     "name": "stderr",
     "output_type": "stream",
     "text": [
      "/home/lokesh/anaconda3/lib/python3.6/site-packages/sklearn/utils/validation.py:578: DataConversionWarning: A column-vector y was passed when a 1d array was expected. Please change the shape of y to (n_samples, ), for example using ravel().\n",
      "  y = column_or_1d(y, warn=True)\n"
     ]
    },
    {
     "data": {
      "text/plain": [
       "SVR(C=100.0, cache_size=200, coef0=0.0, degree=3, epsilon=0.1, gamma='auto',\n",
       "  kernel='rbf', max_iter=-1, shrinking=True, tol=0.001, verbose=False)"
      ]
     },
     "execution_count": 9,
     "metadata": {},
     "output_type": "execute_result"
    }
   ],
   "source": [
    "data_test=pd.read_csv('test.csv')\n",
    "ans=pd.DataFrame()\n",
    "ans['Id']=data_test['Id']\n",
    "data_test.drop('Id',axis='columns',inplace=True)\n",
    "data_test.replace({\"day\":day_dict},inplace=True)\n",
    "data_test.replace({\"month\":mon_dict},inplace=True)\n",
    "svmr.fit(features,labels)"
   ]
  },
  {
   "cell_type": "code",
   "execution_count": 10,
   "metadata": {},
   "outputs": [],
   "source": [
    "pred=svmr.predict(data_test)\n",
    "pred=2**pred\n",
    "ans['area']=pred\n",
    "ans.to_csv('sampleSubmission.csv')"
   ]
  },
  {
   "cell_type": "markdown",
   "metadata": {},
   "source": [
    "<h2>Applying XGBoost Regressor"
   ]
  },
  {
   "cell_type": "code",
   "execution_count": 26,
   "metadata": {},
   "outputs": [
    {
     "data": {
      "text/plain": [
       "XGBRegressor(base_score=0.5, booster='gbtree', colsample_bylevel=1,\n",
       "       colsample_bytree=1, gamma=0, learning_rate=0.1, max_delta_step=0,\n",
       "       max_depth=15, min_child_weight=1, missing=None, n_estimators=350,\n",
       "       n_jobs=1, nthread=None, objective='reg:linear', random_state=0,\n",
       "       reg_alpha=0, reg_lambda=1, scale_pos_weight=1, seed=None,\n",
       "       silent=True, subsample=1)"
      ]
     },
     "execution_count": 26,
     "metadata": {},
     "output_type": "execute_result"
    }
   ],
   "source": [
    "import xgboost as xgb\n",
    "#eval_set=[(test_df,labels_test)]\n",
    "reg = xgb.XGBRegressor(max_depth=15, n_estimators=350, learning_rate=0.1)\n",
    "reg.fit(features_train,labels_train,eval_metric=\"error\",verbose=True)"
   ]
  },
  {
   "cell_type": "code",
   "execution_count": 27,
   "metadata": {},
   "outputs": [
    {
     "data": {
      "text/plain": [
       "3.5137912264316884"
      ]
     },
     "execution_count": 27,
     "metadata": {},
     "output_type": "execute_result"
    }
   ],
   "source": [
    "pred=reg.predict(features_test)\n",
    "from sklearn.metrics import mean_squared_error\n",
    "mean_squared_error(labels_test, pred)"
   ]
  },
  {
   "cell_type": "markdown",
   "metadata": {},
   "source": [
    "<h2>Applying adaboost"
   ]
  },
  {
   "cell_type": "code",
   "execution_count": 15,
   "metadata": {},
   "outputs": [],
   "source": [
    "from sklearn.ensemble import AdaBoostRegressor\n",
    "from sklearn.tree import DecisionTreeRegressor"
   ]
  },
  {
   "cell_type": "code",
   "execution_count": 18,
   "metadata": {},
   "outputs": [
    {
     "name": "stderr",
     "output_type": "stream",
     "text": [
      "/home/lokesh/anaconda3/lib/python3.6/site-packages/sklearn/utils/validation.py:578: DataConversionWarning: A column-vector y was passed when a 1d array was expected. Please change the shape of y to (n_samples, ), for example using ravel().\n",
      "  y = column_or_1d(y, warn=True)\n"
     ]
    },
    {
     "data": {
      "text/plain": [
       "array([2.54485562, 1.89626305, 2.31283501, 2.31283501, 2.42760617,\n",
       "       2.42760617, 2.54485562, 2.54485562, 2.54485562, 2.54485562,\n",
       "       2.43028527, 2.43028527, 2.42760617, 2.31283501, 2.31283501,\n",
       "       2.54485562, 2.43028527, 2.54485562, 2.42760617, 2.23440852,\n",
       "       2.54485562, 1.47824742, 2.43028527, 2.23440852, 2.42760617,\n",
       "       2.43028527, 2.31283501, 2.42760617, 2.43028527, 2.54485562,\n",
       "       2.31283501, 2.54485562, 2.23440852, 2.43028527, 2.42760617,\n",
       "       2.31283501, 2.42760617, 2.31283501, 2.42760617, 2.42760617,\n",
       "       2.43028527, 2.54485562, 2.42760617, 2.23440852, 2.54485562,\n",
       "       1.47824742, 2.42760617, 2.43028527, 2.42760617, 2.31283501,\n",
       "       2.42760617, 2.43028527, 1.46703534, 1.46703534, 2.42760617,\n",
       "       2.43028527, 2.42760617, 2.43028527, 2.42760617, 2.43028527,\n",
       "       2.43028527, 2.54485562, 2.54485562, 2.54485562, 2.43028527,\n",
       "       2.54485562, 2.54485562])"
      ]
     },
     "execution_count": 18,
     "metadata": {},
     "output_type": "execute_result"
    }
   ],
   "source": [
    "from sklearn.metrics import mean_squared_error\n",
    "reg = AdaBoostRegressor(DecisionTreeRegressor(max_depth=5),n_estimators=50,loss='exponential',learning_rate=0.01)\n",
    "reg.fit(features,labels)\n",
    "pred = reg.predict(data_test)\n",
    "pred"
   ]
  },
  {
   "cell_type": "code",
   "execution_count": 20,
   "metadata": {},
   "outputs": [
    {
     "data": {
      "text/plain": [
       "2.058921884658765"
      ]
     },
     "execution_count": 20,
     "metadata": {},
     "output_type": "execute_result"
    }
   ],
   "source": [
    "pred=reg.predict(features_test)\n",
    "from sklearn.metrics import mean_squared_error\n",
    "mean_squared_error(labels_test, pred)"
   ]
  },
  {
   "cell_type": "code",
   "execution_count": 21,
   "metadata": {},
   "outputs": [
    {
     "name": "stderr",
     "output_type": "stream",
     "text": [
      "/home/lokesh/anaconda3/lib/python3.6/site-packages/sklearn/utils/validation.py:578: DataConversionWarning: A column-vector y was passed when a 1d array was expected. Please change the shape of y to (n_samples, ), for example using ravel().\n",
      "  y = column_or_1d(y, warn=True)\n"
     ]
    }
   ],
   "source": [
    "from sklearn.metrics import r2_score\n",
    "from sklearn.svm import SVR\n",
    "svmr=SVR(kernel='rbf', C=100, gamma=0.1)\n",
    "svmr.fit(features,labels)\n",
    "pred = svmr.predict(data_test)\n",
    "pred=2**pred"
   ]
  }
 ],
 "metadata": {
  "kernelspec": {
   "display_name": "Python 3",
   "language": "python",
   "name": "python3"
  },
  "language_info": {
   "codemirror_mode": {
    "name": "ipython",
    "version": 3
   },
   "file_extension": ".py",
   "mimetype": "text/x-python",
   "name": "python",
   "nbconvert_exporter": "python",
   "pygments_lexer": "ipython3",
   "version": "3.6.4"
  }
 },
 "nbformat": 4,
 "nbformat_minor": 2
}
